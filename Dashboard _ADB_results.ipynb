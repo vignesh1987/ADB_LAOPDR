{
 "cells": [
  {
   "cell_type": "code",
   "execution_count": 43,
   "id": "3f651045",
   "metadata": {},
   "outputs": [
    {
     "name": "stdout",
     "output_type": "stream",
     "text": [
      "Dash is running on http://127.0.0.1:8050/\n",
      "\n",
      " * Serving Flask app '__main__'\n",
      " * Debug mode: off\n"
     ]
    }
   ],
   "source": [
    "import dash\n",
    "import dash_core_components as dcc\n",
    "import dash_html_components as html\n",
    "from dash.dependencies import Input, Output\n",
    "import pandas as pd\n",
    "import plotly.express as px\n",
    "\n",
    "# Load your data ( please refer to the combined results from all the scernaios)\n",
    "df1 = pd.read_csv('AnnualTechnologyEmission_combined.csv')\n",
    "df2 = pd.read_csv('ProductionByTechnologyAnnual_combined.csv')\n",
    "\n",
    "app = dash.Dash(__name__)\n",
    "\n",
    "# Define your app layout\n",
    "app.layout = html.Div([\n",
    "    dcc.Dropdown(\n",
    "        id='scenario-dropdown',\n",
    "        options=[{'label': i, 'value': i} for i in df1['Scenario'].unique()],\n",
    "        value=df1['Scenario'].unique()[0]\n",
    "    ),\n",
    "    dcc.Dropdown(\n",
    "        id='emission-dropdown',\n",
    "        options=[{'label': i, 'value': i} for i in df1['EMISSION'].unique()],\n",
    "        value=df1['EMISSION'].unique()[0]\n",
    "    ),\n",
    "    dcc.Dropdown(\n",
    "        id='commodity-dropdown',\n",
    "        options=[{'label': i, 'value': i} for i in df2['COMMODITY'].unique()],\n",
    "        value=df2['COMMODITY'].unique()[0]\n",
    "    ),\n",
    "    dcc.Graph(id='bar-chart'),\n",
    "    dcc.Graph(id='second-bar-chart')\n",
    "])\n",
    "\n",
    "# Define callback to update first graph\n",
    "@app.callback(\n",
    "    Output('bar-chart', 'figure'),\n",
    "    [Input('scenario-dropdown', 'value'),\n",
    "     Input('emission-dropdown', 'value')]\n",
    ")\n",
    "def update_figure(selected_scenario, selected_emission):\n",
    "    filtered_df = df1[(df1['Scenario'] == selected_scenario) & (df1['EMISSION'] == selected_emission)]\n",
    "    \n",
    "    fig = px.bar(filtered_df, x='YEAR', y='VALUE', color='TECHNOLOGY', title='Yearly Emission Values by Technology',color_discrete_sequence=px.colors.qualitative.Pastel1)\n",
    "    \n",
    "    return fig\n",
    "\n",
    "# Define callback to update second graph\n",
    "@app.callback(\n",
    "    Output('second-bar-chart', 'figure'),\n",
    "    [Input('scenario-dropdown', 'value'),\n",
    "     Input('commodity-dropdown', 'value')]\n",
    ")\n",
    "def update_second_figure(selected_scenario, selected_fuel):\n",
    "    filtered_df = df2[(df2['Scenario'] == selected_scenario) & (df2['COMMODITY'] == selected_fuel)]\n",
    "    \n",
    "    fig = px.bar(filtered_df, x='YEAR', y='VALUE', color='TECHNOLOGY', title='Production by technology',color_discrete_sequence=px.colors.qualitative.Pastel1)\n",
    "    \n",
    "    return fig\n",
    "\n",
    "if __name__ == '__main__':\n",
    "    app.run_server(debug=False)\n"
   ]
  },
  {
   "cell_type": "code",
   "execution_count": null,
   "id": "95816855",
   "metadata": {},
   "outputs": [],
   "source": []
  }
 ],
 "metadata": {
  "kernelspec": {
   "display_name": "Python 3 (ipykernel)",
   "language": "python",
   "name": "python3"
  },
  "language_info": {
   "codemirror_mode": {
    "name": "ipython",
    "version": 3
   },
   "file_extension": ".py",
   "mimetype": "text/x-python",
   "name": "python",
   "nbconvert_exporter": "python",
   "pygments_lexer": "ipython3",
   "version": "3.9.18"
  }
 },
 "nbformat": 4,
 "nbformat_minor": 5
}
